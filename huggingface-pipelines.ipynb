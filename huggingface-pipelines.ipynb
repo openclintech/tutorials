from transformers import pipeline, Conversation

def initialize_chatbot(model_name = "facebook/blenderbot-400M-distill"):
    chatbot = pipeline(task = "conversational", model = model_name)

    return chatbot

def start_conversation(chatbot, initial_msg):
    conversation = Conversation(initial_msg)
    conversation = chatbot(conversation)

    return conversation

def add_message_to_conversation(chatbot, conversation, new_msg):
    conversation.add_message(
        {
            "role": "user",
            "content": new_msg
        }
    )
    conversation = chatbot(conversation)

    return conversation

def print_conversation(conversation):
    print("Bot:", conversation.generated_responses[-1])

def main():
    # initialize the chatbot
    chatbot = initialize_chatbot()

    # start a conversation with an initial message with user input
    initial_msg = input("You: ")
    conversation = start_conversation(chatbot, initial_msg)

    # print the initial message from the chatbot
    print_conversation(conversation)

    # loop until we stop
    while True:
       new_msg = input("You: ")
       conversation = add_message_to_conversation(chatbot, conversation, new_msg)
       print_conversation(conversation)

if __name__ == "__main__":
    main()
